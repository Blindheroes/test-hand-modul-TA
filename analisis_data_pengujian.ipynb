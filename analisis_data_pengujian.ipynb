{
 "cells": [
  {
   "cell_type": "markdown",
   "id": "766ecf5e",
   "metadata": {},
   "source": [
    "# Analisis Pengujian Sistem Hand Tracking\n",
    "\n",
    "Notebook ini digunakan untuk menganalisis hasil pengujian sistem hand tracking pada berbagai skenario, termasuk variasi jarak, pencahayaan, adaptasi threshold, dan filtering temporal. Data hasil pengujian diambil dari file CSV yang dihasilkan oleh skrip pengujian dan disimpan di folder `results`.\n"
   ]
  },
  {
   "cell_type": "code",
   "execution_count": 22,
   "id": "8c92e733",
   "metadata": {},
   "outputs": [],
   "source": [
    "# Import library yang diperlukan\n",
    "import pandas as pd\n",
    "import numpy as np\n",
    "import matplotlib.pyplot as plt\n",
    "import seaborn as sns\n",
    "import glob\n",
    "import os\n"
   ]
  },
  {
   "cell_type": "markdown",
   "id": "1ebb1c41",
   "metadata": {},
   "source": [
    "## 1. Memuat Data Hasil Pengujian\n",
    "\n",
    "Pada bagian ini, data hasil pengujian dari file CSV akan dimuat ke dalam DataFrame untuk dianalisis lebih lanjut. Data yang dimuat meliputi pengujian jarak, pencahayaan, threshold, dan temporal filtering."
   ]
  },
  {
   "cell_type": "code",
   "execution_count": 23,
   "id": "686a137b",
   "metadata": {},
   "outputs": [],
   "source": [
    "# Mendefinisikan path folder hasil pengujian\n",
    "results_dir = os.path.join('results', 'saved', '16-5-25')\n",
    "\n",
    "# Mendapatkan semua file CSV hasil pengujian\n",
    "distance_files = glob.glob(os.path.join(results_dir, 'distance_test_*.csv'))\n",
    "lighting_files = glob.glob(os.path.join(results_dir, 'lighting_test_*.csv'))\n",
    "threshold_files = glob.glob(os.path.join(results_dir, 'threshold_test_*.csv'))\n",
    "temporal_files = glob.glob(os.path.join(results_dir, 'temporal_test_*.csv'))\n",
    "\n",
    "def load_csv_list(file_list):\n",
    "    return [pd.read_csv(f) for f in file_list]\n",
    "\n",
    "distance_data = load_csv_list(distance_files)\n",
    "lighting_data = load_csv_list(lighting_files)\n",
    "threshold_data = load_csv_list(threshold_files)\n",
    "temporal_data = load_csv_list(temporal_files)\n"
   ]
  },
  {
   "cell_type": "markdown",
   "id": "42dcc164",
   "metadata": {},
   "source": [
    "## 2. Analisis Pengujian Jarak (Distance Test)\n",
    "\n",
    "Analisis ini bertujuan untuk mengetahui pengaruh jarak antara pengguna dan kamera terhadap akurasi deteksi gesture. Data dianalisis berdasarkan tiga kategori jarak: dekat (1 meter), optimal (2 meter), dan jauh (3 meter)."
   ]
  },
  {
   "cell_type": "code",
   "execution_count": 24,
   "id": "dec45566",
   "metadata": {},
   "outputs": [
    {
     "data": {
      "text/html": [
       "<div>\n",
       "<style scoped>\n",
       "    .dataframe tbody tr th:only-of-type {\n",
       "        vertical-align: middle;\n",
       "    }\n",
       "\n",
       "    .dataframe tbody tr th {\n",
       "        vertical-align: top;\n",
       "    }\n",
       "\n",
       "    .dataframe thead th {\n",
       "        text-align: right;\n",
       "    }\n",
       "</style>\n",
       "<table border=\"1\" class=\"dataframe\">\n",
       "  <thead>\n",
       "    <tr style=\"text-align: right;\">\n",
       "      <th></th>\n",
       "      <th>distance</th>\n",
       "      <th>gesture</th>\n",
       "      <th>total</th>\n",
       "      <th>detected</th>\n",
       "      <th>accuracy</th>\n",
       "    </tr>\n",
       "  </thead>\n",
       "  <tbody>\n",
       "    <tr>\n",
       "      <th>0</th>\n",
       "      <td>close</td>\n",
       "      <td>pointing</td>\n",
       "      <td>600</td>\n",
       "      <td>600</td>\n",
       "      <td>100.000000</td>\n",
       "    </tr>\n",
       "    <tr>\n",
       "      <th>1</th>\n",
       "      <td>close</td>\n",
       "      <td>selecting</td>\n",
       "      <td>599</td>\n",
       "      <td>599</td>\n",
       "      <td>100.000000</td>\n",
       "    </tr>\n",
       "    <tr>\n",
       "      <th>2</th>\n",
       "      <td>far</td>\n",
       "      <td>pointing</td>\n",
       "      <td>599</td>\n",
       "      <td>289</td>\n",
       "      <td>48.247078</td>\n",
       "    </tr>\n",
       "    <tr>\n",
       "      <th>3</th>\n",
       "      <td>far</td>\n",
       "      <td>selecting</td>\n",
       "      <td>599</td>\n",
       "      <td>92</td>\n",
       "      <td>15.358932</td>\n",
       "    </tr>\n",
       "    <tr>\n",
       "      <th>4</th>\n",
       "      <td>optimal</td>\n",
       "      <td>pointing</td>\n",
       "      <td>599</td>\n",
       "      <td>599</td>\n",
       "      <td>100.000000</td>\n",
       "    </tr>\n",
       "    <tr>\n",
       "      <th>5</th>\n",
       "      <td>optimal</td>\n",
       "      <td>selecting</td>\n",
       "      <td>599</td>\n",
       "      <td>599</td>\n",
       "      <td>100.000000</td>\n",
       "    </tr>\n",
       "  </tbody>\n",
       "</table>\n",
       "</div>"
      ],
      "text/plain": [
       "  distance    gesture  total  detected    accuracy\n",
       "0    close   pointing    600       600  100.000000\n",
       "1    close  selecting    599       599  100.000000\n",
       "2      far   pointing    599       289   48.247078\n",
       "3      far  selecting    599        92   15.358932\n",
       "4  optimal   pointing    599       599  100.000000\n",
       "5  optimal  selecting    599       599  100.000000"
      ]
     },
     "metadata": {},
     "output_type": "display_data"
    }
   ],
   "source": [
    "# Contoh struktur kolom: ['timestamp', 'frame', 'distance', 'gesture', 'detected']\n",
    "def analyze_distance_accuracy(distance_data):\n",
    "    results = []\n",
    "    for df in distance_data:\n",
    "        for (dist, gest), group in df.groupby(['distance', 'gesture']):\n",
    "            total = len(group)\n",
    "            detected = group['detected'].sum()\n",
    "            accuracy = 100 * detected / total if total > 0 else 0\n",
    "            results.append({'distance': dist, 'gesture': gest, 'total': total, 'detected': detected, 'accuracy': accuracy})\n",
    "    return pd.DataFrame(results)\n",
    "\n",
    "distance_summary = analyze_distance_accuracy(distance_data)\n",
    "display(distance_summary)\n"
   ]
  },
  {
   "cell_type": "code",
   "execution_count": 25,
   "id": "e36ed834",
   "metadata": {},
   "outputs": [
    {
     "name": "stdout",
     "output_type": "stream",
     "text": [
      "| distance   | gesture   |   total |   detected |   accuracy |\n",
      "|:-----------|:----------|--------:|-----------:|-----------:|\n",
      "| close      | pointing  |     600 |        600 |   100      |\n",
      "| close      | selecting |     599 |        599 |   100      |\n",
      "| far        | pointing  |     599 |        289 |    48.2471 |\n",
      "| far        | selecting |     599 |         92 |    15.3589 |\n",
      "| optimal    | pointing  |     599 |        599 |   100      |\n",
      "| optimal    | selecting |     599 |        599 |   100      |\n"
     ]
    }
   ],
   "source": [
    "# Tabel hasil analisis jarak (bisa di-copy ke dokumen lain)\n",
    "print(distance_summary.to_markdown(index=False))"
   ]
  },
  {
   "cell_type": "code",
   "execution_count": 26,
   "id": "03d4d05a",
   "metadata": {},
   "outputs": [
    {
     "data": {
      "image/png": "[encoded data removed]",
      "text/plain": [
       "<Figure size 800x500 with 1 Axes>"
      ]
     },
     "metadata": {},
     "output_type": "display_data"
    }
   ],
   "source": [
    "# Visualisasi akurasi deteksi berdasarkan jarak (close, far, optimal) dan gesture\n",
    "# ururtan jarak: close, optimal, far\n",
    "distance_summary['distance'] = pd.Categorical(distance_summary['distance'], categories=['close', 'optimal', 'far'], ordered=True)\n",
    "plt.figure(figsize=(8,5))\n",
    "sns.barplot(data=distance_summary, x='distance', y='accuracy', hue='gesture')\n",
    "plt.title('Akurasi Deteksi Berdasarkan Jarak dan Gesture')\n",
    "plt.ylabel('Akurasi (%)')\n",
    "plt.xlabel('Jarak')\n",
    "plt.ylim(0, 100)\n",
    "plt.legend(title='Gesture')\n",
    "plt.show()\n"
   ]
  },
  {
   "cell_type": "markdown",
   "id": "cb99dcc3",
   "metadata": {},
   "source": [
    "## 3. Analisis Pengujian Pencahayaan (Lighting Test)\n",
    "\n",
    "Analisis ini bertujuan untuk mengetahui pengaruh kondisi pencahayaan terhadap akurasi deteksi gesture. Data dianalisis berdasarkan tiga kategori pencahayaan: rendah, sedang, dan tinggi."
   ]
  },
  {
   "cell_type": "code",
   "execution_count": 27,
   "id": "6e53f27f",
   "metadata": {},
   "outputs": [
    {
     "data": {
      "text/html": [
       "<div>\n",
       "<style scoped>\n",
       "    .dataframe tbody tr th:only-of-type {\n",
       "        vertical-align: middle;\n",
       "    }\n",
       "\n",
       "    .dataframe tbody tr th {\n",
       "        vertical-align: top;\n",
       "    }\n",
       "\n",
       "    .dataframe thead th {\n",
       "        text-align: right;\n",
       "    }\n",
       "</style>\n",
       "<table border=\"1\" class=\"dataframe\">\n",
       "  <thead>\n",
       "    <tr style=\"text-align: right;\">\n",
       "      <th></th>\n",
       "      <th>lighting</th>\n",
       "      <th>brightness</th>\n",
       "      <th>gesture</th>\n",
       "      <th>total</th>\n",
       "      <th>detected</th>\n",
       "      <th>accuracy</th>\n",
       "    </tr>\n",
       "  </thead>\n",
       "  <tbody>\n",
       "    <tr>\n",
       "      <th>0</th>\n",
       "      <td>high</td>\n",
       "      <td>127.869381</td>\n",
       "      <td>pointing</td>\n",
       "      <td>423</td>\n",
       "      <td>373</td>\n",
       "      <td>88.179669</td>\n",
       "    </tr>\n",
       "    <tr>\n",
       "      <th>1</th>\n",
       "      <td>high</td>\n",
       "      <td>127.437242</td>\n",
       "      <td>selecting</td>\n",
       "      <td>418</td>\n",
       "      <td>264</td>\n",
       "      <td>63.157895</td>\n",
       "    </tr>\n",
       "    <tr>\n",
       "      <th>2</th>\n",
       "      <td>low</td>\n",
       "      <td>113.265453</td>\n",
       "      <td>pointing</td>\n",
       "      <td>421</td>\n",
       "      <td>329</td>\n",
       "      <td>78.147268</td>\n",
       "    </tr>\n",
       "    <tr>\n",
       "      <th>3</th>\n",
       "      <td>low</td>\n",
       "      <td>114.905724</td>\n",
       "      <td>selecting</td>\n",
       "      <td>380</td>\n",
       "      <td>209</td>\n",
       "      <td>55.000000</td>\n",
       "    </tr>\n",
       "    <tr>\n",
       "      <th>4</th>\n",
       "      <td>medium</td>\n",
       "      <td>125.302908</td>\n",
       "      <td>pointing</td>\n",
       "      <td>414</td>\n",
       "      <td>306</td>\n",
       "      <td>73.913043</td>\n",
       "    </tr>\n",
       "    <tr>\n",
       "      <th>5</th>\n",
       "      <td>medium</td>\n",
       "      <td>126.597991</td>\n",
       "      <td>selecting</td>\n",
       "      <td>406</td>\n",
       "      <td>236</td>\n",
       "      <td>58.128079</td>\n",
       "    </tr>\n",
       "  </tbody>\n",
       "</table>\n",
       "</div>"
      ],
      "text/plain": [
       "  lighting  brightness    gesture  total  detected   accuracy\n",
       "0     high  127.869381   pointing    423       373  88.179669\n",
       "1     high  127.437242  selecting    418       264  63.157895\n",
       "2      low  113.265453   pointing    421       329  78.147268\n",
       "3      low  114.905724  selecting    380       209  55.000000\n",
       "4   medium  125.302908   pointing    414       306  73.913043\n",
       "5   medium  126.597991  selecting    406       236  58.128079"
      ]
     },
     "metadata": {},
     "output_type": "display_data"
    }
   ],
   "source": [
    "# Contoh struktur kolom: ['timestamp', 'frame', 'lighting', 'gesture', 'brightness', 'detected']\n",
    "def analyze_lighting_accuracy(lighting_data):\n",
    "    results = []\n",
    "    for df in lighting_data:\n",
    "        for (light, gest), group in df.groupby(['lighting', 'gesture']):\n",
    "            total = len(group)\n",
    "            # avaarage brightness\n",
    "            avg_brightness = group['brightness'].mean()\n",
    "            detected = group['detected'].sum()\n",
    "            accuracy = 100 * detected / total if total > 0 else 0\n",
    "            results.append({'lighting': light,'brightness':avg_brightness, 'gesture': gest, 'total': total, 'detected': detected, 'accuracy': accuracy})\n",
    "    return pd.DataFrame(results)\n",
    "\n",
    "lighting_summary = analyze_lighting_accuracy(lighting_data)\n",
    "display(lighting_summary)\n"
   ]
  },
  {
   "cell_type": "code",
   "execution_count": 28,
   "id": "3109218b",
   "metadata": {},
   "outputs": [
    {
     "name": "stdout",
     "output_type": "stream",
     "text": [
      "| lighting   |   brightness | gesture   |   total |   detected |   accuracy |\n",
      "|:-----------|-------------:|:----------|--------:|-----------:|-----------:|\n",
      "| high       |      127.869 | pointing  |     423 |        373 |    88.1797 |\n",
      "| high       |      127.437 | selecting |     418 |        264 |    63.1579 |\n",
      "| low        |      113.265 | pointing  |     421 |        329 |    78.1473 |\n",
      "| low        |      114.906 | selecting |     380 |        209 |    55      |\n",
      "| medium     |      125.303 | pointing  |     414 |        306 |    73.913  |\n",
      "| medium     |      126.598 | selecting |     406 |        236 |    58.1281 |\n"
     ]
    }
   ],
   "source": [
    "# Tabel hasil analisis pencahayaan (bisa di-copy ke dokumen lain)\n",
    "print(lighting_summary.to_markdown(index=False))"
   ]
  },
  {
   "cell_type": "code",
   "execution_count": 29,
   "id": "733182a2",
   "metadata": {},
   "outputs": [
    {
     "data": {
      "image/png": "[encoded data removed]",
      "text/plain": [
       "<Figure size 800x500 with 1 Axes>"
      ]
     },
     "metadata": {},
     "output_type": "display_data"
    }
   ],
   "source": [
    "# Visualisasi akurasi deteksi berdasarkan pencahayaan dan gesture\n",
    "# ururtan pencahayaan: low, medium, high\n",
    "lighting_summary['lighting'] = pd.Categorical(lighting_summary['lighting'], categories=['high','medium','low'], ordered=True)\n",
    "# Menghitung rata-rata akurasi untuk setiap kombinasi pencahayaan dan gesture\n",
    "# lighting_summary = lighting_summary.groupby(['lighting', 'gesture']).agg({'accuracy': 'mean'}).reset_index()\n",
    "\n",
    "plt.figure(figsize=(8,5))\n",
    "sns.barplot(data=lighting_summary, x='lighting', y='accuracy', hue='gesture')\n",
    "plt.title('Akurasi Deteksi Berdasarkan Pencahayaan dan Gesture')\n",
    "plt.ylabel('Akurasi (%)')\n",
    "plt.xlabel('Kondisi Pencahayaan')\n",
    "plt.ylim(0, 100)\n",
    "plt.legend(title='Gesture')\n",
    "plt.show()\n"
   ]
  },
  {
   "cell_type": "markdown",
   "id": "de14bf77",
   "metadata": {},
   "source": [
    "## 4. Analisis Efektivitas Adaptasi Threshold\n",
    "\n",
    "Analisis ini bertujuan untuk membandingkan performa deteksi gesture antara mode threshold adaptif dan threshold tetap pada berbagai jarak."
   ]
  },
  {
   "cell_type": "code",
   "execution_count": 30,
   "id": "e9dfef90",
   "metadata": {},
   "outputs": [
    {
     "data": {
      "text/html": [
       "<div>\n",
       "<style scoped>\n",
       "    .dataframe tbody tr th:only-of-type {\n",
       "        vertical-align: middle;\n",
       "    }\n",
       "\n",
       "    .dataframe tbody tr th {\n",
       "        vertical-align: top;\n",
       "    }\n",
       "\n",
       "    .dataframe thead th {\n",
       "        text-align: right;\n",
       "    }\n",
       "</style>\n",
       "<table border=\"1\" class=\"dataframe\">\n",
       "  <thead>\n",
       "    <tr style=\"text-align: right;\">\n",
       "      <th></th>\n",
       "      <th>mode</th>\n",
       "      <th>distance</th>\n",
       "      <th>total</th>\n",
       "      <th>detected</th>\n",
       "      <th>accuracy</th>\n",
       "      <th>avg_threshold</th>\n",
       "    </tr>\n",
       "  </thead>\n",
       "  <tbody>\n",
       "    <tr>\n",
       "      <th>0</th>\n",
       "      <td>adaptive</td>\n",
       "      <td>close</td>\n",
       "      <td>299</td>\n",
       "      <td>278</td>\n",
       "      <td>92.976589</td>\n",
       "      <td>0.35</td>\n",
       "    </tr>\n",
       "    <tr>\n",
       "      <th>1</th>\n",
       "      <td>adaptive</td>\n",
       "      <td>far</td>\n",
       "      <td>299</td>\n",
       "      <td>0</td>\n",
       "      <td>0.000000</td>\n",
       "      <td>0.65</td>\n",
       "    </tr>\n",
       "    <tr>\n",
       "      <th>2</th>\n",
       "      <td>adaptive</td>\n",
       "      <td>optimal</td>\n",
       "      <td>299</td>\n",
       "      <td>283</td>\n",
       "      <td>94.648829</td>\n",
       "      <td>0.50</td>\n",
       "    </tr>\n",
       "    <tr>\n",
       "      <th>3</th>\n",
       "      <td>fixed</td>\n",
       "      <td>close</td>\n",
       "      <td>300</td>\n",
       "      <td>262</td>\n",
       "      <td>87.333333</td>\n",
       "      <td>0.50</td>\n",
       "    </tr>\n",
       "    <tr>\n",
       "      <th>4</th>\n",
       "      <td>fixed</td>\n",
       "      <td>far</td>\n",
       "      <td>300</td>\n",
       "      <td>0</td>\n",
       "      <td>0.000000</td>\n",
       "      <td>0.50</td>\n",
       "    </tr>\n",
       "    <tr>\n",
       "      <th>5</th>\n",
       "      <td>fixed</td>\n",
       "      <td>optimal</td>\n",
       "      <td>300</td>\n",
       "      <td>299</td>\n",
       "      <td>99.666667</td>\n",
       "      <td>0.50</td>\n",
       "    </tr>\n",
       "    <tr>\n",
       "      <th>6</th>\n",
       "      <td>adaptive</td>\n",
       "      <td>close</td>\n",
       "      <td>300</td>\n",
       "      <td>237</td>\n",
       "      <td>79.000000</td>\n",
       "      <td>0.35</td>\n",
       "    </tr>\n",
       "    <tr>\n",
       "      <th>7</th>\n",
       "      <td>adaptive</td>\n",
       "      <td>far</td>\n",
       "      <td>300</td>\n",
       "      <td>0</td>\n",
       "      <td>0.000000</td>\n",
       "      <td>0.65</td>\n",
       "    </tr>\n",
       "    <tr>\n",
       "      <th>8</th>\n",
       "      <td>adaptive</td>\n",
       "      <td>optimal</td>\n",
       "      <td>299</td>\n",
       "      <td>246</td>\n",
       "      <td>82.274247</td>\n",
       "      <td>0.50</td>\n",
       "    </tr>\n",
       "    <tr>\n",
       "      <th>9</th>\n",
       "      <td>fixed</td>\n",
       "      <td>close</td>\n",
       "      <td>299</td>\n",
       "      <td>200</td>\n",
       "      <td>66.889632</td>\n",
       "      <td>0.50</td>\n",
       "    </tr>\n",
       "    <tr>\n",
       "      <th>10</th>\n",
       "      <td>fixed</td>\n",
       "      <td>far</td>\n",
       "      <td>300</td>\n",
       "      <td>0</td>\n",
       "      <td>0.000000</td>\n",
       "      <td>0.50</td>\n",
       "    </tr>\n",
       "    <tr>\n",
       "      <th>11</th>\n",
       "      <td>fixed</td>\n",
       "      <td>optimal</td>\n",
       "      <td>300</td>\n",
       "      <td>273</td>\n",
       "      <td>91.000000</td>\n",
       "      <td>0.50</td>\n",
       "    </tr>\n",
       "  </tbody>\n",
       "</table>\n",
       "</div>"
      ],
      "text/plain": [
       "        mode distance  total  detected   accuracy  avg_threshold\n",
       "0   adaptive    close    299       278  92.976589           0.35\n",
       "1   adaptive      far    299         0   0.000000           0.65\n",
       "2   adaptive  optimal    299       283  94.648829           0.50\n",
       "3      fixed    close    300       262  87.333333           0.50\n",
       "4      fixed      far    300         0   0.000000           0.50\n",
       "5      fixed  optimal    300       299  99.666667           0.50\n",
       "6   adaptive    close    300       237  79.000000           0.35\n",
       "7   adaptive      far    300         0   0.000000           0.65\n",
       "8   adaptive  optimal    299       246  82.274247           0.50\n",
       "9      fixed    close    299       200  66.889632           0.50\n",
       "10     fixed      far    300         0   0.000000           0.50\n",
       "11     fixed  optimal    300       273  91.000000           0.50"
      ]
     },
     "metadata": {},
     "output_type": "display_data"
    }
   ],
   "source": [
    "# Contoh struktur kolom: ['timestamp', 'frame', 'mode', 'distance', 'threshold', 'gesture', 'detected']\n",
    "def analyze_threshold_accuracy(threshold_data):\n",
    "    results = []\n",
    "    for df in threshold_data:\n",
    "        for (mode, dist), group in df.groupby(['mode', 'distance']):\n",
    "            total = len(group)\n",
    "            detected = group['detected'].sum()\n",
    "            accuracy = 100 * detected / total if total > 0 else 0\n",
    "            avg_threshold = group['threshold'].mean()\n",
    "            results.append({'mode': mode, 'distance': dist, 'total': total, 'detected': detected, 'accuracy': accuracy, 'avg_threshold': avg_threshold})\n",
    "    return pd.DataFrame(results)\n",
    "\n",
    "threshold_summary = analyze_threshold_accuracy(threshold_data)\n",
    "display(threshold_summary)\n"
   ]
  },
  {
   "cell_type": "code",
   "execution_count": 31,
   "id": "54f1f063",
   "metadata": {},
   "outputs": [
    {
     "name": "stdout",
     "output_type": "stream",
     "text": [
      "| mode     | distance   |   total |   detected |   accuracy |   avg_threshold |\n",
      "|:---------|:-----------|--------:|-----------:|-----------:|----------------:|\n",
      "| adaptive | close      |     299 |        278 |    92.9766 |            0.35 |\n",
      "| adaptive | far        |     299 |          0 |     0      |            0.65 |\n",
      "| adaptive | optimal    |     299 |        283 |    94.6488 |            0.5  |\n",
      "| fixed    | close      |     300 |        262 |    87.3333 |            0.5  |\n",
      "| fixed    | far        |     300 |          0 |     0      |            0.5  |\n",
      "| fixed    | optimal    |     300 |        299 |    99.6667 |            0.5  |\n",
      "| adaptive | close      |     300 |        237 |    79      |            0.35 |\n",
      "| adaptive | far        |     300 |          0 |     0      |            0.65 |\n",
      "| adaptive | optimal    |     299 |        246 |    82.2742 |            0.5  |\n",
      "| fixed    | close      |     299 |        200 |    66.8896 |            0.5  |\n",
      "| fixed    | far        |     300 |          0 |     0      |            0.5  |\n",
      "| fixed    | optimal    |     300 |        273 |    91      |            0.5  |\n"
     ]
    }
   ],
   "source": [
    "# Tabel hasil analisis threshold (bisa di-copy ke dokumen lain)\n",
    "print(threshold_summary.to_markdown(index=False))"
   ]
  },
  {
   "cell_type": "code",
   "execution_count": 32,
   "id": "426eaaf3",
   "metadata": {},
   "outputs": [
    {
     "data": {
      "image/png": "[encoded data removed]",
      "text/plain": [
       "<Figure size 800x500 with 1 Axes>"
      ]
     },
     "metadata": {},
     "output_type": "display_data"
    }
   ],
   "source": [
    "# Visualisasi akurasi threshold adaptif vs tetap\n",
    "# ururtan mode: adaptive, fixed\n",
    "threshold_summary['mode'] = pd.Categorical(threshold_summary['mode'], categories=['adaptive', 'fixed'], ordered=True)\n",
    "#ururtan jarak: close, optimal, far\n",
    "threshold_summary['distance'] = pd.Categorical(threshold_summary['distance'], categories=['close', 'optimal', 'far'], ordered=True)\n",
    "plt.figure(figsize=(8,5))\n",
    "sns.barplot(data=threshold_summary, x='distance', y='accuracy', hue='mode')\n",
    "plt.title('Akurasi Deteksi: Threshold Adaptif vs Tetap')\n",
    "plt.ylabel('Akurasi (%)')\n",
    "plt.xlabel('Jarak')\n",
    "plt.ylim(0, 100)\n",
    "plt.legend(title='Mode Threshold')\n",
    "plt.show()\n"
   ]
  },
  {
   "cell_type": "markdown",
   "id": "58edcaf9",
   "metadata": {},
   "source": [
    "## 5. Analisis Efektivitas Filtering Temporal\n",
    "\n",
    "Analisis ini bertujuan untuk membandingkan stabilitas deteksi gesture antara mode dengan filtering temporal dan tanpa filtering temporal.\n",
    "\n",
    "### 5.1 Analisis Raw vs Filtered Detection\n",
    "\n",
    "Analisis ini membandingkan jumlah frame deteksi bertipe 'raw' dan 'filtered' pada setiap mode dan gesture."
   ]
  },
  {
   "cell_type": "code",
   "execution_count": 33,
   "id": "3c9468f4",
   "metadata": {},
   "outputs": [
    {
     "data": {
      "text/html": [
       "<div>\n",
       "<style scoped>\n",
       "    .dataframe tbody tr th:only-of-type {\n",
       "        vertical-align: middle;\n",
       "    }\n",
       "\n",
       "    .dataframe tbody tr th {\n",
       "        vertical-align: top;\n",
       "    }\n",
       "\n",
       "    .dataframe thead th {\n",
       "        text-align: right;\n",
       "    }\n",
       "</style>\n",
       "<table border=\"1\" class=\"dataframe\">\n",
       "  <thead>\n",
       "    <tr style=\"text-align: right;\">\n",
       "      <th></th>\n",
       "      <th>mode</th>\n",
       "      <th>gesture</th>\n",
       "      <th>Frame Count filtered</th>\n",
       "      <th>Frame Count raw</th>\n",
       "      <th>Percentage (%) filtered</th>\n",
       "      <th>Percentage (%) raw</th>\n",
       "      <th>Rasio Filtered/Raw</th>\n",
       "    </tr>\n",
       "  </thead>\n",
       "  <tbody>\n",
       "    <tr>\n",
       "      <th>0</th>\n",
       "      <td>without_filtering</td>\n",
       "      <td>pointing</td>\n",
       "      <td>0</td>\n",
       "      <td>41</td>\n",
       "      <td>0.000000</td>\n",
       "      <td>100.000000</td>\n",
       "      <td>0.000000</td>\n",
       "    </tr>\n",
       "    <tr>\n",
       "      <th>1</th>\n",
       "      <td>without_filtering</td>\n",
       "      <td>selecting</td>\n",
       "      <td>0</td>\n",
       "      <td>23</td>\n",
       "      <td>0.000000</td>\n",
       "      <td>100.000000</td>\n",
       "      <td>0.000000</td>\n",
       "    </tr>\n",
       "    <tr>\n",
       "      <th>2</th>\n",
       "      <td>with_filtering</td>\n",
       "      <td>pointing</td>\n",
       "      <td>12</td>\n",
       "      <td>41</td>\n",
       "      <td>22.641509</td>\n",
       "      <td>77.358491</td>\n",
       "      <td>0.292683</td>\n",
       "    </tr>\n",
       "    <tr>\n",
       "      <th>3</th>\n",
       "      <td>with_filtering</td>\n",
       "      <td>selecting</td>\n",
       "      <td>5</td>\n",
       "      <td>23</td>\n",
       "      <td>17.857143</td>\n",
       "      <td>82.142857</td>\n",
       "      <td>0.217391</td>\n",
       "    </tr>\n",
       "  </tbody>\n",
       "</table>\n",
       "</div>"
      ],
      "text/plain": [
       "                mode    gesture  Frame Count filtered  Frame Count raw  \\\n",
       "0  without_filtering   pointing                     0               41   \n",
       "1  without_filtering  selecting                     0               23   \n",
       "2     with_filtering   pointing                    12               41   \n",
       "3     with_filtering  selecting                     5               23   \n",
       "\n",
       "   Percentage (%) filtered  Percentage (%) raw  Rasio Filtered/Raw  \n",
       "0                 0.000000          100.000000            0.000000  \n",
       "1                 0.000000          100.000000            0.000000  \n",
       "2                22.641509           77.358491            0.292683  \n",
       "3                17.857143           82.142857            0.217391  "
      ]
     },
     "metadata": {},
     "output_type": "display_data"
    }
   ],
   "source": [
    "# Analisis stabilitas deteksi berdasarkan tipe deteksi (filtered/raw)\n",
    "def analyze_temporal_stability(temporal_data):\n",
    "    results = []\n",
    "    for df in temporal_data:\n",
    "        # Pastikan kolom 'detection_type' ada\n",
    "        if 'detection_type' not in df.columns:\n",
    "            continue\n",
    "        for (mode, gest), group in df.groupby(['mode', 'gesture']):\n",
    "            count_filtered = (group['detection_type'] == 'filtered').sum()\n",
    "            count_raw = (group['detection_type'] == 'raw').sum()\n",
    "            total = len(group)\n",
    "            percent_filtered = 100 * count_filtered / total if total > 0 else 0\n",
    "            percent_raw = 100 * count_raw / total if total > 0 else 0\n",
    "            ratio = count_filtered / count_raw if count_raw > 0 else float('inf')\n",
    "            results.append({\n",
    "                'mode': mode,\n",
    "                'gesture': gest,\n",
    "                'Frame Count filtered': count_filtered,\n",
    "                'Frame Count raw': count_raw,\n",
    "                'Percentage (%) filtered': percent_filtered,\n",
    "                'Percentage (%) raw': percent_raw,\n",
    "                'Rasio Filtered/Raw': ratio\n",
    "            })\n",
    "    return pd.DataFrame(results)\n",
    "\n",
    "temporal_summary = analyze_temporal_stability(temporal_data)\n",
    "display(temporal_summary)"
   ]
  },
  {
   "cell_type": "code",
   "execution_count": 34,
   "id": "0de7a941",
   "metadata": {},
   "outputs": [
    {
     "name": "stdout",
     "output_type": "stream",
     "text": [
      "| mode              | gesture   |   Frame Count filtered |   Frame Count raw |   Percentage (%) filtered |   Percentage (%) raw |   Rasio Filtered/Raw |\n",
      "|:------------------|:----------|-----------------------:|------------------:|--------------------------:|---------------------:|---------------------:|\n",
      "| without_filtering | pointing  |                      0 |                41 |                    0      |             100      |             0        |\n",
      "| without_filtering | selecting |                      0 |                23 |                    0      |             100      |             0        |\n",
      "| with_filtering    | pointing  |                     12 |                41 |                   22.6415 |              77.3585 |             0.292683 |\n",
      "| with_filtering    | selecting |                      5 |                23 |                   17.8571 |              82.1429 |             0.217391 |\n"
     ]
    }
   ],
   "source": [
    "# Tabel hasil analisis temporal filtering (bisa di-copy ke dokumen lain)\n",
    "print(temporal_summary.to_markdown(index=False))"
   ]
  },
  {
   "cell_type": "markdown",
   "id": "d9d2f7a6",
   "metadata": {},
   "source": [
    "### 5.2 Analisis Statistik per Mode Filtering\n",
    "\n",
    "Analisis statistik deskriptif (mean, std, min, max) untuk jumlah frame filtered dan raw pada setiap mode filtering."
   ]
  },
  {
   "cell_type": "code",
   "execution_count": 35,
   "id": "26c25bc5",
   "metadata": {},
   "outputs": [
    {
     "name": "stdout",
     "output_type": "stream",
     "text": [
      "| mode              |   ('Frame Count filtered', 'mean') |   ('Frame Count filtered', 'std') |   ('Frame Count filtered', 'min') |   ('Frame Count filtered', 'max') |   ('Frame Count raw', 'mean') |   ('Frame Count raw', 'std') |   ('Frame Count raw', 'min') |   ('Frame Count raw', 'max') |\n",
      "|:------------------|-----------------------------------:|----------------------------------:|----------------------------------:|----------------------------------:|------------------------------:|-----------------------------:|-----------------------------:|-----------------------------:|\n",
      "| with_filtering    |                                8.5 |                           4.94975 |                                 5 |                                12 |                            32 |                      12.7279 |                           23 |                           41 |\n",
      "| without_filtering |                                0   |                           0       |                                 0 |                                 0 |                            32 |                      12.7279 |                           23 |                           41 |\n"
     ]
    }
   ],
   "source": [
    "# Statistik deskriptif jumlah frame filtered dan raw per mode filtering\n",
    "stat_summary = temporal_summary.groupby('mode')[['Frame Count filtered', 'Frame Count raw']].agg(['mean', 'std', 'min', 'max'])\n",
    "print(stat_summary.to_markdown())"
   ]
  },
  {
   "cell_type": "markdown",
   "id": "03c4b841",
   "metadata": {},
   "source": [
    "### 5.3 Analisis Fluktuasi Deteksi\n",
    "\n",
    "Analisis fluktuasi deteksi dilakukan dengan menghitung jumlah perubahan status deteksi (dari raw ke filtered atau sebaliknya) pada setiap mode dan gesture."
   ]
  },
  {
   "cell_type": "code",
   "execution_count": 36,
   "id": "27fbb145",
   "metadata": {},
   "outputs": [
    {
     "name": "stdout",
     "output_type": "stream",
     "text": [
      "| mode              | gesture   |   fluctuations |   total_frames |\n",
      "|:------------------|:----------|---------------:|---------------:|\n",
      "| without_filtering | pointing  |              0 |             41 |\n",
      "| without_filtering | selecting |              0 |             23 |\n",
      "| with_filtering    | pointing  |              3 |             53 |\n",
      "| with_filtering    | selecting |              2 |             28 |\n"
     ]
    }
   ],
   "source": [
    "# Hitung fluktuasi deteksi (jumlah perubahan tipe deteksi per gesture dan mode)\n",
    "def count_detection_fluctuations(temporal_data):\n",
    "    results = []\n",
    "    for df in temporal_data:\n",
    "        if 'detection_type' not in df.columns:\n",
    "            continue\n",
    "        for (mode, gest), group in df.groupby(['mode', 'gesture']):\n",
    "            det_types = group['detection_type'].values\n",
    "            # Hitung perubahan status (raw <-> filtered)\n",
    "            changes = np.sum(det_types[1:] != det_types[:-1])\n",
    "            results.append({'mode': mode, 'gesture': gest, 'fluctuations': changes, 'total_frames': len(det_types)})\n",
    "    return pd.DataFrame(results)\n",
    "\n",
    "fluctuation_summary = count_detection_fluctuations(temporal_data)\n",
    "print(fluctuation_summary.to_markdown(index=False))"
   ]
  },
  {
   "cell_type": "markdown",
   "id": "2da0c915",
   "metadata": {},
   "source": [
    "### 5.4 Analisis Response Time vs Stability Trade-off\n",
    "\n",
    "Analisis ini membandingkan rata-rata panjang run (jumlah frame berturut-turut dengan tipe deteksi sama) sebagai indikator trade-off antara response time (kecepatan perubahan deteksi) dan stabilitas (konsistensi deteksi)."
   ]
  },
  {
   "cell_type": "code",
   "execution_count": 37,
   "id": "98bb398e",
   "metadata": {},
   "outputs": [
    {
     "name": "stdout",
     "output_type": "stream",
     "text": [
      "| mode              | gesture   |   avg_run_length_raw |   avg_run_length_filtered |   max_run_length_raw |   max_run_length_filtered |   n_run_raw |   n_run_filtered |\n",
      "|:------------------|:----------|---------------------:|--------------------------:|---------------------:|--------------------------:|------------:|-----------------:|\n",
      "| without_filtering | pointing  |                 41   |                         0 |                   41 |                         0 |           1 |                0 |\n",
      "| without_filtering | selecting |                 23   |                         0 |                   23 |                         0 |           1 |                0 |\n",
      "| with_filtering    | pointing  |                 20.5 |                         6 |                   24 |                         8 |           2 |                2 |\n",
      "| with_filtering    | selecting |                 11.5 |                         5 |                   15 |                         5 |           2 |                1 |\n"
     ]
    }
   ],
   "source": [
    "# Analisis panjang run (run length) untuk raw dan filtered\n",
    "def run_length_analysis(temporal_data):\n",
    "    results = []\n",
    "    for df in temporal_data:\n",
    "        if 'detection_type' not in df.columns:\n",
    "            continue\n",
    "        for (mode, gest), group in df.groupby(['mode', 'gesture']):\n",
    "            det_types = group['detection_type'].values\n",
    "            if len(det_types) == 0:\n",
    "                continue\n",
    "            run_lengths = []\n",
    "            current = det_types[0]\n",
    "            count = 1\n",
    "            for t in det_types[1:]:\n",
    "                if t == current:\n",
    "                    count += 1\n",
    "                else:\n",
    "                    run_lengths.append((current, count))\n",
    "                    current = t\n",
    "                    count = 1\n",
    "            run_lengths.append((current, count))\n",
    "            # Rata-rata run length untuk raw dan filtered\n",
    "            raw_runs = [l for t, l in run_lengths if t == 'raw']\n",
    "            filtered_runs = [l for t, l in run_lengths if t == 'filtered']\n",
    "            results.append({\n",
    "                'mode': mode,\n",
    "                'gesture': gest,\n",
    "                'avg_run_length_raw': np.mean(raw_runs) if raw_runs else 0,\n",
    "                'avg_run_length_filtered': np.mean(filtered_runs) if filtered_runs else 0,\n",
    "                'max_run_length_raw': np.max(raw_runs) if raw_runs else 0,\n",
    "                'max_run_length_filtered': np.max(filtered_runs) if filtered_runs else 0,\n",
    "                'n_run_raw': len(raw_runs),\n",
    "                'n_run_filtered': len(filtered_runs)\n",
    "            })\n",
    "    return pd.DataFrame(results)\n",
    "\n",
    "run_length_summary = run_length_analysis(temporal_data)\n",
    "print(run_length_summary.to_markdown(index=False))"
   ]
  },
  {
   "cell_type": "markdown",
   "id": "ae8fbe58",
   "metadata": {},
   "source": [
    "## 6. Kesimpulan\n",
    "\n",
    "Berdasarkan hasil analisis pengujian sistem hand tracking pada berbagai skenario, diperoleh beberapa poin penting sebagai berikut:\n",
    "\n",
    "### 1. Pengaruh Jarak terhadap Akurasi Deteksi\n",
    "- Akurasi deteksi gesture sangat tinggi pada jarak dekat (close) dan optimal, namun menurun drastis pada jarak jauh (far).\n",
    "- Semua gesture terdeteksi hampir sempurna pada jarak optimal dan dekat, sedangkan pada jarak jauh, gesture tertentu (misal: selecting) mengalami penurunan akurasi signifikan.\n",
    "\n",
    "### 2. Pengaruh Pencahayaan terhadap Akurasi Deteksi\n",
    "- Kondisi pencahayaan tinggi (high) memberikan akurasi deteksi terbaik, diikuti oleh pencahayaan sedang (medium), dan terendah pada pencahayaan rendah (low).\n",
    "- Gesture pointing cenderung lebih stabil terdeteksi pada semua kondisi pencahayaan dibanding gesture selecting.\n",
    "- Nilai rata-rata kecerahan frame juga berbanding lurus dengan akurasi deteksi.\n",
    "\n",
    "### 3. Efektivitas Threshold Adaptif vs Tetap\n",
    "- Mode threshold adaptif menghasilkan akurasi yang lebih konsisten di berbagai jarak, terutama pada kondisi optimal.\n",
    "- Threshold tetap (fixed) dapat memberikan akurasi sangat tinggi pada kondisi tertentu, namun kurang adaptif terhadap perubahan lingkungan.\n",
    "- Rata-rata nilai threshold adaptif menyesuaikan dengan kondisi jarak, sedangkan threshold tetap konstan.\n",
    "\n",
    "### 4. Efektivitas Filtering Temporal\n",
    "- Filtering temporal secara signifikan meningkatkan stabilitas deteksi gesture, ditunjukkan dengan meningkatnya jumlah frame bertipe 'filtered' pada mode with_filtering.\n",
    "- Mode tanpa filtering (without_filtering) hanya menghasilkan deteksi tipe 'raw', sehingga lebih rentan terhadap fluktuasi dan noise.\n",
    "- Analisis statistik menunjukkan bahwa filtering temporal mengurangi fluktuasi deteksi (jumlah perubahan status deteksi lebih sedikit) dan memperpanjang rata-rata run length, sehingga deteksi menjadi lebih stabil.\n",
    "- Namun, filtering temporal dapat menyebabkan trade-off antara stabilitas dan kecepatan respons sistem (response time), di mana deteksi menjadi lebih stabil tetapi sedikit lebih lambat dalam merespon perubahan gesture.\n",
    "\n",
    "### 5. Rekomendasi Penggunaan\n",
    "- Untuk aplikasi yang membutuhkan akurasi tinggi dan stabilitas deteksi, disarankan menggunakan threshold adaptif dan filtering temporal.\n",
    "- Pada lingkungan dengan pencahayaan rendah atau jarak jauh, perlu dilakukan penyesuaian parameter atau penambahan sumber cahaya untuk menjaga performa sistem.\n",
    "- Notebook ini dapat dikembangkan lebih lanjut untuk analisis lanjutan, seperti analisis per frame, evaluasi latency, atau penambahan metrik lain sesuai kebutuhan aplikasi.\n",
    "\n",
    "---\n",
    "\n",
    "**Kesimpulan utama:**  \n",
    "Sistem hand tracking yang diuji menunjukkan performa sangat baik pada kondisi optimal (jarak dan pencahayaan baik), serta semakin stabil dengan penerapan threshold adaptif dan filtering temporal. Namun, performa menurun pada kondisi ekstrim (jarak jauh, pencahayaan rendah), sehingga perlu strategi adaptasi tambahan untuk aplikasi di lingkungan nyata yang dinamis."
   ]
  }
 ],
 "metadata": {
  "kernelspec": {
   "display_name": "Python 3",
   "language": "python",
   "name": "python3"
  },
  "language_info": {
   "codemirror_mode": {
    "name": "ipython",
    "version": 3
   },
   "file_extension": ".py",
   "mimetype": "text/x-python",
   "name": "python",
   "nbconvert_exporter": "python",
   "pygments_lexer": "ipython3",
   "version": "3.10.0"
  }
 },
 "nbformat": 4,
 "nbformat_minor": 5
}
